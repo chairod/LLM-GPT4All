{
 "cells": [
  {
   "cell_type": "code",
   "execution_count": 1,
   "metadata": {},
   "outputs": [
    {
     "name": "stderr",
     "output_type": "stream",
     "text": [
      "d:\\Program Files\\Python310\\lib\\site-packages\\tqdm\\auto.py:21: TqdmWarning: IProgress not found. Please update jupyter and ipywidgets. See https://ipywidgets.readthedocs.io/en/stable/user_install.html\n",
      "  from .autonotebook import tqdm as notebook_tqdm\n"
     ]
    },
    {
     "name": "stdout",
     "output_type": "stream",
     "text": [
      "name='freewill' id=UUID('9afcb2e7-66fb-45a6-a2b1-5c1d20349122') metadata={'hnsw:space': 'ip'}\n",
      "[Collection(name=freewill)]\n"
     ]
    }
   ],
   "source": [
    "# สร้าง AI Database Environment\n",
    "import chromadb\n",
    "from chromadb.config import Settings\n",
    "from chromadb.utils import embedding_functions\n",
    "\n",
    "\n",
    "\n",
    "db = chromadb.Client(settings=Settings(\n",
    "    persist_directory='ai_db_testcase',\n",
    "    chroma_db_impl='duckdb+parquet',\n",
    "    allow_reset=False\n",
    "))\n",
    "\n",
    "# Model Name หาได้จาก https://www.sbert.net/docs/pretrained_models.html#sentence-embedding-models/\n",
    "embbed = embedding_functions.SentenceTransformerEmbeddingFunction(model_name='all-mpnet-base-v2')\n",
    "collection_name = 'freewill'\n",
    "collection = db.get_collection(name=collection_name) if collection_name in [collection.name for collection in db.list_collections()] else None\n",
    "if collection == None:\n",
    "    collection = db.get_or_create_collection(\n",
    "        name=collection_name, \n",
    "        embedding_function=embbed,\n",
    "        \n",
    "        # https://github.com/nmslib/hnswlib/tree/master#python-bindings\n",
    "        # #metadata={\"hnsw:space\": \"l2\"}\n",
    "        metadata={\"hnsw:space\": \"ip\"}\\\n",
    "        #metadata={\"hnsw:space\": \"cosine\"}\n",
    "    )\n",
    "\n",
    "print(collection)\n",
    "print(db.list_collections())"
   ]
  },
  {
   "cell_type": "code",
   "execution_count": 2,
   "metadata": {},
   "outputs": [
    {
     "name": "stdout",
     "output_type": "stream",
     "text": [
      "[Document(page_content='Cash Balance Deposit : BRE039A  \\nProgram Description    Program for adding deposit cash transactions  of customers . System will \\nautomatically increase credit available on Trading System (iFIS ), after supervisors approve deposit \\ntransactions  by using Confirm Transaction for Cash Movement Screen.  \\n \\n       \\n \\nAdd data  \\n Click on”Add” button or and input the following details  \\nField detail and description:  \\n Field Name  Field Description  \\n1. Receipt No.  Reference no. of company receive which is created by program  \\n2. Account No.  Customer account no.  \\n3. XChgMkt  Stock exchange market  ( 1 = STC,  9 = OTC)  \\n4. Deposit Amount  Deposit amount   \\n5. Transaction Type  Deposit type :  there are 3 types of deposit  \\nCash :  the system will increase customer cash balance after supervisor approve \\nthis transaction  \\nCheque : the system will increase customer cash balance on the ‘payment date’ or \\n‘clearing date’ (depend on company policy), customer can withdraw this amount \\nafter c learing date.  \\nCheque T/R (or company cheuqe) :  the system will increase customer cash \\nbalance on the ‘payment date’, customer can withdraw this amount after ‘payment \\ndate’  \\n*** Payment date‘ of cheque is the date that specify on the cheque  \\n*** ‘Clearing date’ of cheque is the ‘payment date’ + 1 officia l day  \\n   \\n Details of deposition, if customers pay by cheque or cash, users has to fill details of deposit slip. If \\ncustomers pay by cash or another pay type which is qualifies to cash, users don’t have to fill details of \\nbank/branch/cheque no.  \\nField detai l and description:   Field Name  Field Description  \\n6. Effective Date  Effective date of updating balance of calculating interest (default is date of \\ntransaction)  \\n7. Remark  Remarks  \\n8. Paytype  Payment type     \\n9. Bank  Issuing bank code specified by  bank of Vietnam  \\n10. Branch  Issuing bank branch code (able to lookup)  \\n11. Cheque No.   If customer pay by cheque, fill the cheque no.  \\n12. Cheque Date  Payment date on cheque  (default same as effective date)  \\n13. Cheque Amt.  Amount as appeared on cheque ( default  same as deposit amount)  \\n14. Cheq Use Amt  Amount of payment for this cheque  means same cheque can be deposited to \\nseveral customer accounts  as long as the total of Use Amount of specified \\ncheques is not more than that ch eque amount.  ( default  same as deposit amount)  \\n15. ClrBk  The payment transaction must be pay in to which bank, which branch, users can \\nlook up from bank code.  \\n  \\n  If customer deposits both cash and cheque each deposit types will be deposited separately due to \\ncash balance system has a several types of deposit. For example, the refer type of cash deposit is “DH” and \\nthe refer type of cheque deposit is “DC”, etc. Deposit by either cash or cheque effects to customer balance \\nupdating.  \\nAfter user saved the transa ction, this transaction will send to supervisor for approve.  \\n \\nCorrection Data  \\nWithin the transaction day, if user input the wrong information and already saved, the ways to correct \\nthe transaction are  \\n- If that transaction still not approve, user can retrieve the transaction, correct it and send to \\nsupervisor for approve again. The  other way, user can delete it and input new transaction.  \\n- If that transaction already approved, the system will not allow user to correct or delete that \\ntransaction. But user must request the supervisor to ‘Unconfirm’ that transaction before.  \\n-  After th e transaction day, if user found that he/she input the wrong information, the only way to \\ncorrect is use the function ‘Error Correction’ for cancel the transaction and send to supervisor \\nfor approve  \\n \\nRetrieve data to edit  \\n Inputting receive no. (RV -YYYYMMD D-) or account no. then click “Retrieve  ', metadata={'source': 'source_documents-single\\\\Cash Balance Deposit_vn.pdf'})]\n"
     ]
    }
   ],
   "source": [
    "from helper.pdfHelper import customPdfLoader\n",
    "\n",
    "pdf = customPdfLoader(file_path='source_documents-single\\Cash Balance Deposit_vn.pdf')\n",
    "docs = pdf.load()\n",
    "print(docs)"
   ]
  },
  {
   "cell_type": "code",
   "execution_count": 3,
   "metadata": {},
   "outputs": [
    {
     "name": "stdout",
     "output_type": "stream",
     "text": [
      "['Cash Balance Deposit : BRE039A Program Description Program for adding deposit cash transactions of customers . System will automatically increase credit available on Trading System (iFIS ), after', 'credit available on Trading System (iFIS ), after supervisors approve deposit transactions by using Confirm Transaction for Cash Movement Screen.\\n', 'Add data Click on”Add” button or and input the following details Field detail and description: Field Name Field Description 1. Receipt No. Reference no. of company receive which is created by program', 'no. of company receive which is created by program 2. Account No. Customer account no.\\n', '3. XChgMkt Stock exchange market ( 1 = STC, 9 = OTC) 4. Deposit Amount Deposit amount 5. Transaction Type Deposit type : there are 3 types of deposit Cash : the system will increase customer cash', 'Cash : the system will increase customer cash balance after supervisor approve this transaction Cheque : the system will increase customer cash balance on the ‘payment date’ or ‘clearing date’ (depend', 'on the ‘payment date’ or ‘clearing date’ (depend on company policy), customer can withdraw this amount after c learing date.\\n', 'Cheque T/R (or company cheuqe) : the system will increase customer cash balance on the ‘payment date’, customer can withdraw this amount after ‘payment date’ *** Payment date‘ of cheque is the date', 'date’ *** Payment date‘ of cheque is the date that specify on the cheque *** ‘Clearing date’ of cheque is the ‘payment date’ + 1 officia l day Details of deposition, if customers pay by cheque or', 'of deposition, if customers pay by cheque or cash, users has to fill details of deposit slip. If customers pay by cash or another pay type which is qualifies to cash, users don’t have to fill details', 'to cash, users don’t have to fill details of bank/branch/cheque no.\\n', 'Field detai l and description: Field Name Field Description 6. Effective Date Effective date of updating balance of calculating interest (default is date of transaction) 7. Remark Remarks 8. Paytype', 'date of transaction) 7. Remark Remarks 8. Paytype Payment type 9. Bank Issuing bank code specified by bank of Vietnam 10. Branch Issuing bank branch code (able to lookup) 11. Cheque No. If customer', 'code (able to lookup) 11. Cheque No. If customer pay by cheque, fill the cheque no.\\n', '12. Cheque Date Payment date on cheque (default same as effective date) 13. Cheque Amt. Amount as appeared on cheque ( default same as deposit amount) 14. Cheq Use Amt Amount of payment for this', '14. Cheq Use Amt Amount of payment for this cheque means same cheque can be deposited to several customer accounts as long as the total of Use Amount of specified cheques is not more than that ch eque', 'of specified cheques is not more than that ch eque amount. ( default same as deposit amount) 15. ClrBk The payment transaction must be pay in to which bank, which branch, users can look up from bank', 'bank, which branch, users can look up from bank code.\\n', 'If customer deposits both cash and cheque each deposit types will be deposited separately due to cash balance system has a several types of deposit. For example, the refer type of cash deposit is', 'For example, the refer type of cash deposit is “DH” and the refer type of cheque deposit is “DC”, etc. Deposit by either cash or cheque effects to customer balance updating.\\n', 'After user saved the transa ction, this transaction will send to supervisor for approve.\\n', 'Correction Data Within the transaction day, if user input the wrong information and already saved, the ways to correct the transaction are - If that transaction still not approve, user can retrieve', 'transaction still not approve, user can retrieve the transaction, correct it and send to supervisor for approve again. The other way, user can delete it and input new transaction.\\n', '- If that transaction already approved, the system will not allow user to correct or delete that transaction. But user must request the supervisor to ‘Unconfirm’ that transaction before.\\n', '- After th e transaction day, if user found that he/she input the wrong information, the only way to correct is use the function ‘Error Correction’ for cancel the transaction and send to supervisor', 'for cancel the transaction and send to supervisor for approve Retrieve data to edit Inputting receive no. (RV -YYYYMMD D-) or account no. then click “Retrieve']\n"
     ]
    }
   ],
   "source": [
    "from langchain.text_splitter import RecursiveCharacterTextSplitter\n",
    "import re\n",
    "\n",
    "doc = docs[0]\n",
    "split_texts = re.split(pattern=\"\\n{1,}|\\r\\n\", string=doc.page_content)\n",
    "split_texts = [re.sub('\\s{2,}', ' ', text.strip()) for text in split_texts if len(text.strip()) > 0]\n",
    "split_texts = [f'{text}\\n' if text.endswith('.') else text for text in split_texts] # ทำ Markpoint ให้ LLM ทราบถึง End-of-sequence/Stop Sequence/Stop Generate Text/จุดสิ้นสุดของประโยค\n",
    "cleaned_texts = ' '.join(split_texts)\n",
    "\n",
    "# ตัดข้อความแยกออกเป็นแต่ล่ะ Chunk (แยกออกเป็นก้อนๆ)\n",
    "# .split_text \\n จะถูกตัดออกไปหาก เป็นคำสุดท้ายของ chunk พอดี\n",
    "text_splitter = RecursiveCharacterTextSplitter(chunk_size=200, chunk_overlap=50)\n",
    "chunks = text_splitter.split_text(text=cleaned_texts)\n",
    "chunks = [f'{chunk}\\n' if chunk.endswith('.') else chunk for chunk in chunks] # Mark point End-Of-Sequence/Stop \n",
    "print(chunks)"
   ]
  },
  {
   "cell_type": "code",
   "execution_count": 4,
   "metadata": {},
   "outputs": [
    {
     "name": "stdout",
     "output_type": "stream",
     "text": [
      "source_documents-single\\Cash Balance Deposit_vn.pdf\n"
     ]
    }
   ],
   "source": [
    "#db.reset()\n",
    "print(doc.metadata['source'])\n",
    "idx = 1\n",
    "for chunk in chunks:\n",
    "    collection.add(\n",
    "            ids=[f'idx_{idx}'],\n",
    "            documents=[chunk],\n",
    "            metadatas=[{'id': f'idx_{idx}', 'chunk_context': chunk, 'source': doc.metadata['source']}]\n",
    "        )\n",
    "    idx += 1"
   ]
  },
  {
   "cell_type": "code",
   "execution_count": 5,
   "metadata": {},
   "outputs": [
    {
     "name": "stdout",
     "output_type": "stream",
     "text": [
      "[Collection(name=freewill)]\n",
      "26\n",
      "26\n",
      "name='freewill' id=UUID('9afcb2e7-66fb-45a6-a2b1-5c1d20349122') metadata={'hnsw:space': 'ip'}\n",
      "[{'id': 'idx_1', 'chunk_context': 'Cash Balance Deposit : BRE039A Program Description Program for adding deposit cash transactions of customers . System will automatically increase credit available on Trading System (iFIS ), after', 'source': 'source_documents-single\\\\Cash Balance Deposit_vn.pdf'}, {'id': 'idx_21', 'chunk_context': 'After user saved the transa ction, this transaction will send to supervisor for approve.\\n', 'source': 'source_documents-single\\\\Cash Balance Deposit_vn.pdf'}, {'id': 'idx_3', 'chunk_context': 'Add data Click on”Add” button or and input the following details Field detail and description: Field Name Field Description 1. Receipt No. Reference no. of company receive which is created by program', 'source': 'source_documents-single\\\\Cash Balance Deposit_vn.pdf'}, {'id': 'idx_4', 'chunk_context': 'no. of company receive which is created by program 2. Account No. Customer account no.\\n', 'source': 'source_documents-single\\\\Cash Balance Deposit_vn.pdf'}, {'id': 'idx_5', 'chunk_context': '3. XChgMkt Stock exchange market ( 1 = STC, 9 = OTC) 4. Deposit Amount Deposit amount 5. Transaction Type Deposit type : there are 3 types of deposit Cash : the system will increase customer cash', 'source': 'source_documents-single\\\\Cash Balance Deposit_vn.pdf'}, {'id': 'idx_6', 'chunk_context': 'Cash : the system will increase customer cash balance after supervisor approve this transaction Cheque : the system will increase customer cash balance on the ‘payment date’ or ‘clearing date’ (depend', 'source': 'source_documents-single\\\\Cash Balance Deposit_vn.pdf'}, {'id': 'idx_7', 'chunk_context': 'on the ‘payment date’ or ‘clearing date’ (depend on company policy), customer can withdraw this amount after c learing date.\\n', 'source': 'source_documents-single\\\\Cash Balance Deposit_vn.pdf'}, {'id': 'idx_2', 'chunk_context': 'credit available on Trading System (iFIS ), after supervisors approve deposit transactions by using Confirm Transaction for Cash Movement Screen.\\n', 'source': 'source_documents-single\\\\Cash Balance Deposit_vn.pdf'}, {'id': 'idx_9', 'chunk_context': 'date’ *** Payment date‘ of cheque is the date that specify on the cheque *** ‘Clearing date’ of cheque is the ‘payment date’ + 1 officia l day Details of deposition, if customers pay by cheque or', 'source': 'source_documents-single\\\\Cash Balance Deposit_vn.pdf'}, {'id': 'idx_10', 'chunk_context': 'of deposition, if customers pay by cheque or cash, users has to fill details of deposit slip. If customers pay by cash or another pay type which is qualifies to cash, users don’t have to fill details', 'source': 'source_documents-single\\\\Cash Balance Deposit_vn.pdf'}, {'id': 'idx_11', 'chunk_context': 'to cash, users don’t have to fill details of bank/branch/cheque no.\\n', 'source': 'source_documents-single\\\\Cash Balance Deposit_vn.pdf'}, {'id': 'idx_12', 'chunk_context': 'Field detai l and description: Field Name Field Description 6. Effective Date Effective date of updating balance of calculating interest (default is date of transaction) 7. Remark Remarks 8. Paytype', 'source': 'source_documents-single\\\\Cash Balance Deposit_vn.pdf'}, {'id': 'idx_13', 'chunk_context': 'date of transaction) 7. Remark Remarks 8. Paytype Payment type 9. Bank Issuing bank code specified by bank of Vietnam 10. Branch Issuing bank branch code (able to lookup) 11. Cheque No. If customer', 'source': 'source_documents-single\\\\Cash Balance Deposit_vn.pdf'}, {'id': 'idx_14', 'chunk_context': 'code (able to lookup) 11. Cheque No. If customer pay by cheque, fill the cheque no.\\n', 'source': 'source_documents-single\\\\Cash Balance Deposit_vn.pdf'}, {'id': 'idx_15', 'chunk_context': '12. Cheque Date Payment date on cheque (default same as effective date) 13. Cheque Amt. Amount as appeared on cheque ( default same as deposit amount) 14. Cheq Use Amt Amount of payment for this', 'source': 'source_documents-single\\\\Cash Balance Deposit_vn.pdf'}, {'id': 'idx_16', 'chunk_context': '14. Cheq Use Amt Amount of payment for this cheque means same cheque can be deposited to several customer accounts as long as the total of Use Amount of specified cheques is not more than that ch eque', 'source': 'source_documents-single\\\\Cash Balance Deposit_vn.pdf'}, {'id': 'idx_17', 'chunk_context': 'of specified cheques is not more than that ch eque amount. ( default same as deposit amount) 15. ClrBk The payment transaction must be pay in to which bank, which branch, users can look up from bank', 'source': 'source_documents-single\\\\Cash Balance Deposit_vn.pdf'}, {'id': 'idx_18', 'chunk_context': 'bank, which branch, users can look up from bank code.\\n', 'source': 'source_documents-single\\\\Cash Balance Deposit_vn.pdf'}, {'id': 'idx_19', 'chunk_context': 'If customer deposits both cash and cheque each deposit types will be deposited separately due to cash balance system has a several types of deposit. For example, the refer type of cash deposit is', 'source': 'source_documents-single\\\\Cash Balance Deposit_vn.pdf'}, {'id': 'idx_20', 'chunk_context': 'For example, the refer type of cash deposit is “DH” and the refer type of cheque deposit is “DC”, etc. Deposit by either cash or cheque effects to customer balance updating.\\n', 'source': 'source_documents-single\\\\Cash Balance Deposit_vn.pdf'}, {'id': 'idx_26', 'chunk_context': 'for cancel the transaction and send to supervisor for approve Retrieve data to edit Inputting receive no. (RV -YYYYMMD D-) or account no. then click “Retrieve', 'source': 'source_documents-single\\\\Cash Balance Deposit_vn.pdf'}, {'id': 'idx_22', 'chunk_context': 'Correction Data Within the transaction day, if user input the wrong information and already saved, the ways to correct the transaction are - If that transaction still not approve, user can retrieve', 'source': 'source_documents-single\\\\Cash Balance Deposit_vn.pdf'}, {'id': 'idx_23', 'chunk_context': 'transaction still not approve, user can retrieve the transaction, correct it and send to supervisor for approve again. The other way, user can delete it and input new transaction.\\n', 'source': 'source_documents-single\\\\Cash Balance Deposit_vn.pdf'}, {'id': 'idx_24', 'chunk_context': '- If that transaction already approved, the system will not allow user to correct or delete that transaction. But user must request the supervisor to ‘Unconfirm’ that transaction before.\\n', 'source': 'source_documents-single\\\\Cash Balance Deposit_vn.pdf'}, {'id': 'idx_25', 'chunk_context': '- After th e transaction day, if user found that he/she input the wrong information, the only way to correct is use the function ‘Error Correction’ for cancel the transaction and send to supervisor', 'source': 'source_documents-single\\\\Cash Balance Deposit_vn.pdf'}, {'id': 'idx_8', 'chunk_context': 'Cheque T/R (or company cheuqe) : the system will increase customer cash balance on the ‘payment date’, customer can withdraw this amount after ‘payment date’ *** Payment date‘ of cheque is the date', 'source': 'source_documents-single\\\\Cash Balance Deposit_vn.pdf'}]\n"
     ]
    }
   ],
   "source": [
    "db.persist()\n",
    "\n",
    "print(db.list_collections())\n",
    "print(collection.count())\n",
    "print(len(chunks))\n",
    "print(collection)\n",
    "print(collection.get()['metadatas'])\n",
    "#db = None"
   ]
  },
  {
   "cell_type": "code",
   "execution_count": 7,
   "metadata": {},
   "outputs": [
    {
     "name": "stdout",
     "output_type": "stream",
     "text": [
      "[Collection(name=freewill)]\n",
      "name='freewill' id=UUID('48eb6f08-9154-438a-b4b8-81217942a7da') metadata={'hnsw:space': 'ip'}\n"
     ]
    }
   ],
   "source": [
    "chroma_db = chromadb.Client(settings=Settings(\n",
    "    persist_directory='ai_db_testcase',\n",
    "    chroma_db_impl='duckdb+parquet',\n",
    "    allow_reset=False\n",
    "))\n",
    "\n",
    "# แสดง Collection ทั้งหมดที่อยู่ใน AI DB\n",
    "print(chroma_db.list_collections())\n",
    "# แสดง คุณสมบัติ (Property) ของ Collection \n",
    "print(chroma_db.get_collection(name=collection_name))\n",
    "# แสดงข้อมูลของ Collection name \n",
    "print(chroma_db.get_collection(name=collection_name).get())\n"
   ]
  },
  {
   "cell_type": "code",
   "execution_count": 27,
   "metadata": {},
   "outputs": [],
   "source": [
    "query_str = 'What is the transaction type field used for?'\n",
    "#query_str = 'What is the effective date field used for?'\n",
    "#query_str = 'What is the cheque number field used for?'\n",
    "#query_str = 'What is the cheque date field used for?'\n",
    "#query_str = 'the branch field used for'\n",
    "query_strs = query_str.split(sep=' ')\n",
    "res = collection.query(\n",
    "    #query_texts=query_str.split(sep=' '),\n",
    "    #query_texts=[query_str] + query_strs,\n",
    "    query_texts=[query_str],\n",
    "    n_results=15,\n",
    "    # where={\n",
    "    #     'chunk_context':{\n",
    "    #         '$eq': query_str\n",
    "    #     }\n",
    "    # },\n",
    "    #where={'id': 'idx_11'}\n",
    "    #where_document={'$contains': query_str}\n",
    ")\n",
    "print(res)\n",
    "print(f\"idx 0: {res['ids'][0][0]}\")\n",
    "#print(res['documents'][0])\n",
    "print('\\n\\n'.join(res['documents'][0]))\n",
    "\n",
    "\n",
    "\n",
    "# res2 = collection.get(\n",
    "#     ids='idx_12'\n",
    "# )\n",
    "# print(res2)\n"
   ]
  },
  {
   "cell_type": "markdown",
   "metadata": {},
   "source": []
  }
 ],
 "metadata": {
  "kernelspec": {
   "display_name": "Python 3",
   "language": "python",
   "name": "python3"
  },
  "language_info": {
   "codemirror_mode": {
    "name": "ipython",
    "version": 3
   },
   "file_extension": ".py",
   "mimetype": "text/x-python",
   "name": "python",
   "nbconvert_exporter": "python",
   "pygments_lexer": "ipython3",
   "version": "3.10.11"
  },
  "orig_nbformat": 4
 },
 "nbformat": 4,
 "nbformat_minor": 2
}
