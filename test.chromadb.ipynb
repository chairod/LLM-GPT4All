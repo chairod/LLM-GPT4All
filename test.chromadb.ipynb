{
 "cells": [
  {
   "cell_type": "code",
   "execution_count": 57,
   "metadata": {},
   "outputs": [
    {
     "name": "stdout",
     "output_type": "stream",
     "text": [
      "name='freewill' id=UUID('03bc248b-058e-4a00-ab34-4a044ec3d398') metadata={'hnsw:space': 'cosine'}\n",
      "[Collection(name=freewill)]\n"
     ]
    }
   ],
   "source": [
    "# สร้าง AI Database Environment\n",
    "import chromadb\n",
    "from chromadb.config import Settings\n",
    "from chromadb.utils import embedding_functions\n",
    "\n",
    "db = chromadb.Client(settings=Settings(\n",
    "    persist_directory='ai_db_x',\n",
    "    chroma_db_impl='duckdb+parquet',\n",
    "    allow_reset=False\n",
    "))\n",
    "\n",
    "# Model Name หาได้จาก https://www.sbert.net/docs/pretrained_models.html#sentence-embedding-models/\n",
    "embbed = embedding_functions.SentenceTransformerEmbeddingFunction(model_name='all-mpnet-base-v2')\n",
    "collection_name = 'freewill'\n",
    "collection = db.get_collection(name=collection_name) if collection_name in [collection.name for collection in db.list_collections()] else None\n",
    "if collection == None:\n",
    "    collection = db.get_or_create_collection(\n",
    "        name=collection_name, \n",
    "        embedding_function=embbed,\n",
    "        \n",
    "        # https://github.com/nmslib/hnswlib/tree/master#python-bindings\n",
    "        # #metadata={\"hnsw:space\": \"l2\"}\n",
    "        # #metadata={\"hnsw:space\": \"ip\"}\\\n",
    "        metadata={\"hnsw:space\": \"cosine\"}\n",
    "    )\n",
    "\n",
    "print(collection)\n",
    "print(db.list_collections())"
   ]
  },
  {
   "cell_type": "code",
   "execution_count": 58,
   "metadata": {},
   "outputs": [
    {
     "name": "stdout",
     "output_type": "stream",
     "text": [
      "['Q1 Q: What are the conditions that client trading transactions are subject to?', 'A1 A: Client trading transactions are subject to stock status and customer status according to', 'predetermined system conditions for buying and selling.\\n', 'Q2 Q: What are the Share Status options available in the system?', 'A2 A: The Share Status options available in the system are ACTIVE, INACTIVE, CLOSE_ONLY,', 'and HALTED.\\n', 'Q3 Q: What are the Account Status options available in the system?', 'A3 A: The Account Status options available in the system are CanBuy, CanSell, BuyBotton', 'Display, SellButton Display, Buy, Sell, Pending, Active, Lock(buy), Lock(sell), and', 'Lock(buy,sell).\\n', 'Q4 Q: Is it possible to buy and sell shares when the Share Status is CLOSEONLY?', 'A4 A: No, it is not possible to buy and sell shares when the Share Status is CLOSEONLY.\\n', 'Q5 Q: What are the possible values for the CanBuy and CanSell Account Status', 'options?', 'A5 A: The possible values for CanBuy and CanSell Account Status options are Yes and No.\\n', 'Q6 Q: What does a Pending Account Status mean?', 'A6 A: A Pending Account Status means that neither Buy nor Sell is available.\\n', 'Q7 Q: What does an Active Account Status mean?', 'A7 A: An Active Account Status means that both Buy and Sell are available.\\n', 'Q8 Q: What does a Lock(buy) Account Status mean?', 'A8 A: A Lock(buy) Account Status means that Buy is temporarily not available.\\n', 'Q9 Q: What does a Lock(sell) Account Status mean?', 'A9 A: A Lock(sell) Account Status means that Sell is temporarily not available.\\n', 'Q10 Q: What does a Lock(buy,sell) Account Status mean?', 'A10 A: A Lock(buy,sell) Account Status means that both Buy and Sell are temporarily not', 'available.\\n', 'Q11 Q: Can shares be sold when the Share Status is HALTED?', 'A11 A: No, shares cannot be sold when the Share Status is HALTED.\\n', 'Q12 Q: What does an Inactive Account Status mean?', 'A12 A: An Inactive Account Status means that both Buy and Sell are not available.\\n', 'Q13 Q: When CanBuy and CanSell values are both \"Yes\", does it mean both Buy and', 'Sell options are available?', 'A13 A: Yes. When CanBuy and CanSell values are both \"Yes\", both Buy and Sell options are', 'available.\\n', 'Q14 Q: What does the BuyButton Display and SellButton Display indicate?', 'A14 A: When BuyButton Display is \"Yes\" it means Buy button is displayed, and when SellButton', 'Display is \"Yes\" it means Sell button is displayed.\\n', 'Q15 Q: What is the difference between INACTIVE and PENDING Share Status options?', 'A15 A: INACTIVE means that no buying or selling can happen while PENDING means temporarily', 'neither buying nor selling can happen.\\n', 'Q16 Q: Is it possible to buy shares when the Share Status is INACTIVE?', 'A16 A: No, it is not possible to buy shares when the Share Status is INACTIVE.\\n', 'Q17 Q: Is it possible to sell shares when the Share Status is INACTIVE?', 'A17 A: No, it is not possible to sell shares when the Share Status is INACTIVE.\\n', 'Q18 Q: When can shares only be sold?', 'A18 A: Shares can only be sold when the Share Status is CLOSE_ONLY.\\n', 'Q19 Q: What does HALTED Share Status mean?', 'A19 A: HALTED Share Status means that buying and selling stocks have been suspended for a', 'certain security or underlying asset.\\n', 'Q20 Q: What does ACTIVE Share Status mean?', 'A20 A: ACTIVE Share Status means that buying and selling stocks is allowed for a certain security', 'or underlying asset.\\n', 'Q21 Q: What does PENDING Account Status mean?', 'A21 A: PENDING Account Status means that buying and selling stocks are not available', 'temporarily.\\n', 'Q22 Q: Are the Buy and Sell options both always available when the Account Status is', 'Active?', 'A22 A: No. It is not always the case, as it depends on the Share Status.\\n', 'Q24 Q: What does Lock(buy) mean?', 'A24 A: Lock(buy) means that the customer is temporarily not allowed to buy securities even if the', 'Share Status is Active.\\n', 'Q25 Q: What does Lock(sell) mean?', 'A25 A: Lock(sell) means that the customer is temporarily not allowed to sell securities even if the', 'Share Status is Active.\\n', 'Q26 Q: What does Lock(buy, sell) mean?', 'A26 A: Lock(buy, sell) means that the customer is temporarily not allowed to buy or sell securities', 'even if the Share Status is Active.\\n', 'Q27 Q: What is BuyBotton Display?', 'A27 A: BuyBotton Display shows whether the Buy button is available or not, with \"Yes\" indicating', 'that it is currently available.\\n', 'Q28 Q: What is SellButton Display?', 'A28 A: SellButton Display shows whether the Sell button is available or not, with \"Yes\" indicating', 'that it is currently available.\\n', 'Q29 Q: What happens when there are conflicting values for the Account Status', 'options of both lock and active or inactive status?', 'A29 A: When there are conflicting values between lock and active or inactive status, lock status', 'will take precedence over active or inactive status.\\n', 'Q30 Q: Can a customer still view their account details when there is an inactive Share', 'Status?', 'A30 A: Yes, customers can still view their account details when there is an inactive Share Status.\\n', 'Q31 Q: What are the four Share Status options again?', 'A31  A: The four Share Status options are ACTIVE, INACTIVE, CLOSE_ONLY, and HALTED.\\n', 'Q32 Q: What is the difference between INACTIVE and HALTED Share Status options?', 'A32 A: INACTIVE means that buying and selling securities is not available while HALTED means', 'that buying and selling securities are suspended temporarily.\\n', 'Q33 Q: What does the Account Status Lock(buy, sell) option indicate?', 'A33 A: The Account Status Lock(buy, sell) option indicates that the customer is temporarily not', 'allowed to both buy and sell securities.\\n', 'Q34 Q: What does the Account Status Lock(buy) option indicate?', 'A34 A: The Account Status Lock(buy) option indicates that the customer is temporarily not', 'allowed to buy securities.\\n', 'Q35 Q: What does the Account Status Lock(sell) option indicate?', 'A35 A: The Account Status Lock(sell) option indicates that the customer is temporarily not', 'allowed to sell securities.\\n']\n",
      "Q1 Q: What are the conditions that client trading transactions are subject to? A1 A: Client trading transactions are subject to stock status and customer status according to predetermined system conditions for buying and selling.\n",
      " Q2 Q: What are the Share Status options available in the system? A2 A: The Share Status options available in the system are ACTIVE, INACTIVE, CLOSE_ONLY, and HALTED.\n"
     ]
    }
   ],
   "source": [
    "# โหลดเอกสาร pdf และ เก็บไว้ใน ai db\n",
    "from langchain.document_loaders import PDFMinerLoader\n",
    "import os\n",
    "pdfDoc = PDFMinerLoader(file_path=f'{os.getcwd()}/source_documents-single/GS_QA.pdf')\n",
    "doc = pdfDoc.load()\n",
    "\n",
    "\n",
    "from langchain.text_splitter import RecursiveCharacterTextSplitter\n",
    "import re\n",
    "text_spliter = RecursiveCharacterTextSplitter(\n",
    "    separators = ['\\n', '\\n\\n'],\n",
    "    chunk_size = 500,\n",
    "    chunk_overlap = 10\n",
    ")\n",
    "clean_texts = [f'{text.strip()}\\n' if text.strip().endswith('.') else text.strip() for text in re.split('\\n{1,}|\\r\\n', doc[0].page_content) if len(text.strip()) > 0]\n",
    "print(clean_texts)\n",
    "\n",
    "prepare_texts = text_spliter.split_text(' '.join(clean_texts))\n",
    "# print(len(prepare_texts))\n",
    "print(prepare_texts[0]) \n",
    "# print('\\n\\nindex : 2')\n",
    "# print(prepare_texts[1]) \n",
    "# print('\\n\\nindex : 3')\n",
    "# print(prepare_texts[2])\n"
   ]
  },
  {
   "cell_type": "code",
   "execution_count": 59,
   "metadata": {},
   "outputs": [],
   "source": [
    "#db.reset()\n",
    "idx = 1\n",
    "for text in prepare_texts:\n",
    "    collection.add(\n",
    "            ids=[f'idx_{idx}'],\n",
    "            documents=[text],\n",
    "            metadatas=[{'tag': text, 'id': f'idx_{idx}', 'source': doc[0].metadata['source']}]\n",
    "        )\n",
    "    idx += 1"
   ]
  },
  {
   "cell_type": "code",
   "execution_count": 60,
   "metadata": {},
   "outputs": [
    {
     "name": "stdout",
     "output_type": "stream",
     "text": [
      "[Collection(name=freewill)]\n",
      "14\n",
      "14\n",
      "name='freewill' id=UUID('03bc248b-058e-4a00-ab34-4a044ec3d398') metadata={'hnsw:space': 'cosine'}\n",
      "[{'tag': 'Q1 Q: What are the conditions that client trading transactions are subject to? A1 A: Client trading transactions are subject to stock status and customer status according to predetermined system conditions for buying and selling.\\n Q2 Q: What are the Share Status options available in the system? A2 A: The Share Status options available in the system are ACTIVE, INACTIVE, CLOSE_ONLY, and HALTED.', 'id': 'idx_1', 'source': 'd:\\\\Environment_Owner\\\\Developments\\\\Chatbot\\\\langchain\\\\fw_gpt4all_project\\\\LLM-GPT4All/source_documents-single/GS_QA.pdf'}, {'tag': 'Q3 Q: What are the Account Status options available in the system? A3 A: The Account Status options available in the system are CanBuy, CanSell, BuyBotton Display, SellButton Display, Buy, Sell, Pending, Active, Lock(buy), Lock(sell), and Lock(buy,sell).\\n Q4 Q: Is it possible to buy and sell shares when the Share Status is CLOSEONLY? A4 A: No, it is not possible to buy and sell shares when the Share Status is CLOSEONLY.', 'id': 'idx_2', 'source': 'd:\\\\Environment_Owner\\\\Developments\\\\Chatbot\\\\langchain\\\\fw_gpt4all_project\\\\LLM-GPT4All/source_documents-single/GS_QA.pdf'}, {'tag': 'Q5 Q: What are the possible values for the CanBuy and CanSell Account Status options? A5 A: The possible values for CanBuy and CanSell Account Status options are Yes and No.\\n Q6 Q: What does a Pending Account Status mean? A6 A: A Pending Account Status means that neither Buy nor Sell is available.\\n Q7 Q: What does an Active Account Status mean? A7 A: An Active Account Status means that both Buy and Sell are available.', 'id': 'idx_3', 'source': 'd:\\\\Environment_Owner\\\\Developments\\\\Chatbot\\\\langchain\\\\fw_gpt4all_project\\\\LLM-GPT4All/source_documents-single/GS_QA.pdf'}, {'tag': 'Q8 Q: What does a Lock(buy) Account Status mean? A8 A: A Lock(buy) Account Status means that Buy is temporarily not available.\\n Q9 Q: What does a Lock(sell) Account Status mean? A9 A: A Lock(sell) Account Status means that Sell is temporarily not available.\\n Q10 Q: What does a Lock(buy,sell) Account Status mean? A10 A: A Lock(buy,sell) Account Status means that both Buy and Sell are temporarily not available.', 'id': 'idx_4', 'source': 'd:\\\\Environment_Owner\\\\Developments\\\\Chatbot\\\\langchain\\\\fw_gpt4all_project\\\\LLM-GPT4All/source_documents-single/GS_QA.pdf'}, {'tag': 'Q11 Q: Can shares be sold when the Share Status is HALTED? A11 A: No, shares cannot be sold when the Share Status is HALTED.\\n Q12 Q: What does an Inactive Account Status mean? A12 A: An Inactive Account Status means that both Buy and Sell are not available.\\n Q13 Q: When CanBuy and CanSell values are both \"Yes\", does it mean both Buy and Sell options are available? A13 A: Yes. When CanBuy and CanSell values are both \"Yes\", both Buy and Sell options are available.', 'id': 'idx_5', 'source': 'd:\\\\Environment_Owner\\\\Developments\\\\Chatbot\\\\langchain\\\\fw_gpt4all_project\\\\LLM-GPT4All/source_documents-single/GS_QA.pdf'}, {'tag': 'Q14 Q: What does the BuyButton Display and SellButton Display indicate? A14 A: When BuyButton Display is \"Yes\" it means Buy button is displayed, and when SellButton Display is \"Yes\" it means Sell button is displayed.\\n Q15 Q: What is the difference between INACTIVE and PENDING Share Status options? A15 A: INACTIVE means that no buying or selling can happen while PENDING means temporarily neither buying nor selling can happen.', 'id': 'idx_6', 'source': 'd:\\\\Environment_Owner\\\\Developments\\\\Chatbot\\\\langchain\\\\fw_gpt4all_project\\\\LLM-GPT4All/source_documents-single/GS_QA.pdf'}, {'tag': 'Q16 Q: Is it possible to buy shares when the Share Status is INACTIVE? A16 A: No, it is not possible to buy shares when the Share Status is INACTIVE.\\n Q17 Q: Is it possible to sell shares when the Share Status is INACTIVE? A17 A: No, it is not possible to sell shares when the Share Status is INACTIVE.\\n Q18 Q: When can shares only be sold? A18 A: Shares can only be sold when the Share Status is CLOSE_ONLY.', 'id': 'idx_7', 'source': 'd:\\\\Environment_Owner\\\\Developments\\\\Chatbot\\\\langchain\\\\fw_gpt4all_project\\\\LLM-GPT4All/source_documents-single/GS_QA.pdf'}, {'tag': 'Q19 Q: What does HALTED Share Status mean? A19 A: HALTED Share Status means that buying and selling stocks have been suspended for a certain security or underlying asset.\\n Q20 Q: What does ACTIVE Share Status mean? A20 A: ACTIVE Share Status means that buying and selling stocks is allowed for a certain security or underlying asset.\\n Q21 Q: What does PENDING Account Status mean? A21 A: PENDING Account Status means that buying and selling stocks are not available temporarily.', 'id': 'idx_8', 'source': 'd:\\\\Environment_Owner\\\\Developments\\\\Chatbot\\\\langchain\\\\fw_gpt4all_project\\\\LLM-GPT4All/source_documents-single/GS_QA.pdf'}, {'tag': 'Q22 Q: Are the Buy and Sell options both always available when the Account Status is Active? A22 A: No. It is not always the case, as it depends on the Share Status.\\n Q24 Q: What does Lock(buy) mean? A24 A: Lock(buy) means that the customer is temporarily not allowed to buy securities even if the Share Status is Active.\\n Q25 Q: What does Lock(sell) mean? A25 A: Lock(sell) means that the customer is temporarily not allowed to sell securities even if the Share Status is Active.', 'id': 'idx_9', 'source': 'd:\\\\Environment_Owner\\\\Developments\\\\Chatbot\\\\langchain\\\\fw_gpt4all_project\\\\LLM-GPT4All/source_documents-single/GS_QA.pdf'}, {'tag': 'Q26 Q: What does Lock(buy, sell) mean? A26 A: Lock(buy, sell) means that the customer is temporarily not allowed to buy or sell securities even if the Share Status is Active.\\n Q27 Q: What is BuyBotton Display? A27 A: BuyBotton Display shows whether the Buy button is available or not, with \"Yes\" indicating that it is currently available.', 'id': 'idx_10', 'source': 'd:\\\\Environment_Owner\\\\Developments\\\\Chatbot\\\\langchain\\\\fw_gpt4all_project\\\\LLM-GPT4All/source_documents-single/GS_QA.pdf'}, {'tag': 'Q28 Q: What is SellButton Display? A28 A: SellButton Display shows whether the Sell button is available or not, with \"Yes\" indicating that it is currently available.\\n Q29 Q: What happens when there are conflicting values for the Account Status options of both lock and active or inactive status? A29 A: When there are conflicting values between lock and active or inactive status, lock status will take precedence over active or inactive status.', 'id': 'idx_11', 'source': 'd:\\\\Environment_Owner\\\\Developments\\\\Chatbot\\\\langchain\\\\fw_gpt4all_project\\\\LLM-GPT4All/source_documents-single/GS_QA.pdf'}, {'tag': 'Q30 Q: Can a customer still view their account details when there is an inactive Share Status? A30 A: Yes, customers can still view their account details when there is an inactive Share Status.\\n Q31 Q: What are the four Share Status options again? A31  A: The four Share Status options are ACTIVE, INACTIVE, CLOSE_ONLY, and HALTED.', 'id': 'idx_12', 'source': 'd:\\\\Environment_Owner\\\\Developments\\\\Chatbot\\\\langchain\\\\fw_gpt4all_project\\\\LLM-GPT4All/source_documents-single/GS_QA.pdf'}, {'tag': 'Q32 Q: What is the difference between INACTIVE and HALTED Share Status options? A32 A: INACTIVE means that buying and selling securities is not available while HALTED means that buying and selling securities are suspended temporarily.\\n Q33 Q: What does the Account Status Lock(buy, sell) option indicate? A33 A: The Account Status Lock(buy, sell) option indicates that the customer is temporarily not allowed to both buy and sell securities.', 'id': 'idx_13', 'source': 'd:\\\\Environment_Owner\\\\Developments\\\\Chatbot\\\\langchain\\\\fw_gpt4all_project\\\\LLM-GPT4All/source_documents-single/GS_QA.pdf'}, {'tag': 'Q34 Q: What does the Account Status Lock(buy) option indicate? A34 A: The Account Status Lock(buy) option indicates that the customer is temporarily not allowed to buy securities.\\n Q35 Q: What does the Account Status Lock(sell) option indicate? A35 A: The Account Status Lock(sell) option indicates that the customer is temporarily not allowed to sell securities.', 'id': 'idx_14', 'source': 'd:\\\\Environment_Owner\\\\Developments\\\\Chatbot\\\\langchain\\\\fw_gpt4all_project\\\\LLM-GPT4All/source_documents-single/GS_QA.pdf'}]\n"
     ]
    }
   ],
   "source": [
    "db.persist()\n",
    "\n",
    "print(db.list_collections())\n",
    "print(collection.count())\n",
    "print(len(prepare_texts))\n",
    "print(collection)\n",
    "print(collection.get()['metadatas'])\n"
   ]
  },
  {
   "cell_type": "code",
   "execution_count": 57,
   "metadata": {},
   "outputs": [
    {
     "name": "stdout",
     "output_type": "stream",
     "text": [
      "{'ids': ['idx_1', 'idx_2', 'idx_3', 'idx_4', 'idx_5', 'idx_6', 'idx_7', 'idx_8', 'idx_9', 'idx_10', 'idx_11', 'idx_12', 'idx_13', 'idx_14'], 'embeddings': None, 'documents': ['Q1 Q: What are the conditions that client trading transactions are subject to? A1 A: Client trading transactions are subject to stock status and customer status according to predetermined system conditions for buying and selling.\\n Q2 Q: What are the Share Status options available in the system? A2 A: The Share Status options available in the system are ACTIVE, INACTIVE, CLOSE_ONLY, and HALTED.', 'Q3 Q: What are the Account Status options available in the system? A3 A: The Account Status options available in the system are CanBuy, CanSell, BuyBotton Display, SellButton Display, Buy, Sell, Pending, Active, Lock(buy), Lock(sell), and Lock(buy,sell).\\n Q4 Q: Is it possible to buy and sell shares when the Share Status is CLOSEONLY? A4 A: No, it is not possible to buy and sell shares when the Share Status is CLOSEONLY.', 'Q5 Q: What are the possible values for the CanBuy and CanSell Account Status options? A5 A: The possible values for CanBuy and CanSell Account Status options are Yes and No.\\n Q6 Q: What does a Pending Account Status mean? A6 A: A Pending Account Status means that neither Buy nor Sell is available.\\n Q7 Q: What does an Active Account Status mean? A7 A: An Active Account Status means that both Buy and Sell are available.', 'Q8 Q: What does a Lock(buy) Account Status mean? A8 A: A Lock(buy) Account Status means that Buy is temporarily not available.\\n Q9 Q: What does a Lock(sell) Account Status mean? A9 A: A Lock(sell) Account Status means that Sell is temporarily not available.\\n Q10 Q: What does a Lock(buy,sell) Account Status mean? A10 A: A Lock(buy,sell) Account Status means that both Buy and Sell are temporarily not available.', 'Q11 Q: Can shares be sold when the Share Status is HALTED? A11 A: No, shares cannot be sold when the Share Status is HALTED.\\n Q12 Q: What does an Inactive Account Status mean? A12 A: An Inactive Account Status means that both Buy and Sell are not available.\\n Q13 Q: When CanBuy and CanSell values are both \"Yes\", does it mean both Buy and Sell options are available? A13 A: Yes. When CanBuy and CanSell values are both \"Yes\", both Buy and Sell options are available.', 'Q14 Q: What does the BuyButton Display and SellButton Display indicate? A14 A: When BuyButton Display is \"Yes\" it means Buy button is displayed, and when SellButton Display is \"Yes\" it means Sell button is displayed.\\n Q15 Q: What is the difference between INACTIVE and PENDING Share Status options? A15 A: INACTIVE means that no buying or selling can happen while PENDING means temporarily neither buying nor selling can happen.', 'Q16 Q: Is it possible to buy shares when the Share Status is INACTIVE? A16 A: No, it is not possible to buy shares when the Share Status is INACTIVE.\\n Q17 Q: Is it possible to sell shares when the Share Status is INACTIVE? A17 A: No, it is not possible to sell shares when the Share Status is INACTIVE.\\n Q18 Q: When can shares only be sold? A18 A: Shares can only be sold when the Share Status is CLOSE_ONLY.', 'Q19 Q: What does HALTED Share Status mean? A19 A: HALTED Share Status means that buying and selling stocks have been suspended for a certain security or underlying asset.\\n Q20 Q: What does ACTIVE Share Status mean? A20 A: ACTIVE Share Status means that buying and selling stocks is allowed for a certain security or underlying asset.\\n Q21 Q: What does PENDING Account Status mean? A21 A: PENDING Account Status means that buying and selling stocks are not available temporarily.', 'Q22 Q: Are the Buy and Sell options both always available when the Account Status is Active? A22 A: No. It is not always the case, as it depends on the Share Status.\\n Q24 Q: What does Lock(buy) mean? A24 A: Lock(buy) means that the customer is temporarily not allowed to buy securities even if the Share Status is Active.\\n Q25 Q: What does Lock(sell) mean? A25 A: Lock(sell) means that the customer is temporarily not allowed to sell securities even if the Share Status is Active.', 'Q26 Q: What does Lock(buy, sell) mean? A26 A: Lock(buy, sell) means that the customer is temporarily not allowed to buy or sell securities even if the Share Status is Active.\\n Q27 Q: What is BuyBotton Display? A27 A: BuyBotton Display shows whether the Buy button is available or not, with \"Yes\" indicating that it is currently available.', 'Q28 Q: What is SellButton Display? A28 A: SellButton Display shows whether the Sell button is available or not, with \"Yes\" indicating that it is currently available.\\n Q29 Q: What happens when there are conflicting values for the Account Status options of both lock and active or inactive status? A29 A: When there are conflicting values between lock and active or inactive status, lock status will take precedence over active or inactive status.', 'Q30 Q: Can a customer still view their account details when there is an inactive Share Status? A30 A: Yes, customers can still view their account details when there is an inactive Share Status.\\n Q31 Q: What are the four Share Status options again? A31  A: The four Share Status options are ACTIVE, INACTIVE, CLOSE_ONLY, and HALTED.', 'Q32 Q: What is the difference between INACTIVE and HALTED Share Status options? A32 A: INACTIVE means that buying and selling securities is not available while HALTED means that buying and selling securities are suspended temporarily.\\n Q33 Q: What does the Account Status Lock(buy, sell) option indicate? A33 A: The Account Status Lock(buy, sell) option indicates that the customer is temporarily not allowed to both buy and sell securities.', 'Q34 Q: What does the Account Status Lock(buy) option indicate? A34 A: The Account Status Lock(buy) option indicates that the customer is temporarily not allowed to buy securities.\\n Q35 Q: What does the Account Status Lock(sell) option indicate? A35 A: The Account Status Lock(sell) option indicates that the customer is temporarily not allowed to sell securities.'], 'metadatas': [{'tag': 'Q1 Q: What are the conditions that client trading transactions are subject to? A1 A: Client trading transactions are subject to stock status and customer status according to predetermined system conditions for buying and selling.\\n Q2 Q: What are the Share Status options available in the system? A2 A: The Share Status options available in the system are ACTIVE, INACTIVE, CLOSE_ONLY, and HALTED.', 'id': 'idx_1'}, {'tag': 'Q3 Q: What are the Account Status options available in the system? A3 A: The Account Status options available in the system are CanBuy, CanSell, BuyBotton Display, SellButton Display, Buy, Sell, Pending, Active, Lock(buy), Lock(sell), and Lock(buy,sell).\\n Q4 Q: Is it possible to buy and sell shares when the Share Status is CLOSEONLY? A4 A: No, it is not possible to buy and sell shares when the Share Status is CLOSEONLY.', 'id': 'idx_2'}, {'tag': 'Q5 Q: What are the possible values for the CanBuy and CanSell Account Status options? A5 A: The possible values for CanBuy and CanSell Account Status options are Yes and No.\\n Q6 Q: What does a Pending Account Status mean? A6 A: A Pending Account Status means that neither Buy nor Sell is available.\\n Q7 Q: What does an Active Account Status mean? A7 A: An Active Account Status means that both Buy and Sell are available.', 'id': 'idx_3'}, {'tag': 'Q8 Q: What does a Lock(buy) Account Status mean? A8 A: A Lock(buy) Account Status means that Buy is temporarily not available.\\n Q9 Q: What does a Lock(sell) Account Status mean? A9 A: A Lock(sell) Account Status means that Sell is temporarily not available.\\n Q10 Q: What does a Lock(buy,sell) Account Status mean? A10 A: A Lock(buy,sell) Account Status means that both Buy and Sell are temporarily not available.', 'id': 'idx_4'}, {'tag': 'Q11 Q: Can shares be sold when the Share Status is HALTED? A11 A: No, shares cannot be sold when the Share Status is HALTED.\\n Q12 Q: What does an Inactive Account Status mean? A12 A: An Inactive Account Status means that both Buy and Sell are not available.\\n Q13 Q: When CanBuy and CanSell values are both \"Yes\", does it mean both Buy and Sell options are available? A13 A: Yes. When CanBuy and CanSell values are both \"Yes\", both Buy and Sell options are available.', 'id': 'idx_5'}, {'tag': 'Q14 Q: What does the BuyButton Display and SellButton Display indicate? A14 A: When BuyButton Display is \"Yes\" it means Buy button is displayed, and when SellButton Display is \"Yes\" it means Sell button is displayed.\\n Q15 Q: What is the difference between INACTIVE and PENDING Share Status options? A15 A: INACTIVE means that no buying or selling can happen while PENDING means temporarily neither buying nor selling can happen.', 'id': 'idx_6'}, {'tag': 'Q16 Q: Is it possible to buy shares when the Share Status is INACTIVE? A16 A: No, it is not possible to buy shares when the Share Status is INACTIVE.\\n Q17 Q: Is it possible to sell shares when the Share Status is INACTIVE? A17 A: No, it is not possible to sell shares when the Share Status is INACTIVE.\\n Q18 Q: When can shares only be sold? A18 A: Shares can only be sold when the Share Status is CLOSE_ONLY.', 'id': 'idx_7'}, {'tag': 'Q19 Q: What does HALTED Share Status mean? A19 A: HALTED Share Status means that buying and selling stocks have been suspended for a certain security or underlying asset.\\n Q20 Q: What does ACTIVE Share Status mean? A20 A: ACTIVE Share Status means that buying and selling stocks is allowed for a certain security or underlying asset.\\n Q21 Q: What does PENDING Account Status mean? A21 A: PENDING Account Status means that buying and selling stocks are not available temporarily.', 'id': 'idx_8'}, {'tag': 'Q22 Q: Are the Buy and Sell options both always available when the Account Status is Active? A22 A: No. It is not always the case, as it depends on the Share Status.\\n Q24 Q: What does Lock(buy) mean? A24 A: Lock(buy) means that the customer is temporarily not allowed to buy securities even if the Share Status is Active.\\n Q25 Q: What does Lock(sell) mean? A25 A: Lock(sell) means that the customer is temporarily not allowed to sell securities even if the Share Status is Active.', 'id': 'idx_9'}, {'tag': 'Q26 Q: What does Lock(buy, sell) mean? A26 A: Lock(buy, sell) means that the customer is temporarily not allowed to buy or sell securities even if the Share Status is Active.\\n Q27 Q: What is BuyBotton Display? A27 A: BuyBotton Display shows whether the Buy button is available or not, with \"Yes\" indicating that it is currently available.', 'id': 'idx_10'}, {'tag': 'Q28 Q: What is SellButton Display? A28 A: SellButton Display shows whether the Sell button is available or not, with \"Yes\" indicating that it is currently available.\\n Q29 Q: What happens when there are conflicting values for the Account Status options of both lock and active or inactive status? A29 A: When there are conflicting values between lock and active or inactive status, lock status will take precedence over active or inactive status.', 'id': 'idx_11'}, {'tag': 'Q30 Q: Can a customer still view their account details when there is an inactive Share Status? A30 A: Yes, customers can still view their account details when there is an inactive Share Status.\\n Q31 Q: What are the four Share Status options again? A31  A: The four Share Status options are ACTIVE, INACTIVE, CLOSE_ONLY, and HALTED.', 'id': 'idx_12'}, {'tag': 'Q32 Q: What is the difference between INACTIVE and HALTED Share Status options? A32 A: INACTIVE means that buying and selling securities is not available while HALTED means that buying and selling securities are suspended temporarily.\\n Q33 Q: What does the Account Status Lock(buy, sell) option indicate? A33 A: The Account Status Lock(buy, sell) option indicates that the customer is temporarily not allowed to both buy and sell securities.', 'id': 'idx_13'}, {'tag': 'Q34 Q: What does the Account Status Lock(buy) option indicate? A34 A: The Account Status Lock(buy) option indicates that the customer is temporarily not allowed to buy securities.\\n Q35 Q: What does the Account Status Lock(sell) option indicate? A35 A: The Account Status Lock(sell) option indicates that the customer is temporarily not allowed to sell securities.', 'id': 'idx_14'}]}\n"
     ]
    }
   ],
   "source": [
    "chroma_db = chromadb.Client(settings=Settings(\n",
    "    persist_directory='ai_db_x',\n",
    "    chroma_db_impl='duckdb+parquet',\n",
    "    allow_reset=False\n",
    "))\n",
    "\n",
    "print(chroma_db.get_collection(name='freewill').get())\n"
   ]
  },
  {
   "cell_type": "code",
   "execution_count": 61,
   "metadata": {},
   "outputs": [
    {
     "name": "stdout",
     "output_type": "stream",
     "text": [
      "idx_13\n",
      "Q32 Q: What is the difference between INACTIVE and HALTED Share Status options? A32 A: INACTIVE means that buying and selling securities is not available while HALTED means that buying and selling securities are suspended temporarily.\n",
      " Q33 Q: What does the Account Status Lock(buy, sell) option indicate? A33 A: The Account Status Lock(buy, sell) option indicates that the customer is temporarily not allowed to both buy and sell securities.\n",
      "{'ids': ['idx_12'], 'embeddings': None, 'documents': ['Q30 Q: Can a customer still view their account details when there is an inactive Share Status? A30 A: Yes, customers can still view their account details when there is an inactive Share Status.\\n Q31 Q: What are the four Share Status options again? A31  A: The four Share Status options are ACTIVE, INACTIVE, CLOSE_ONLY, and HALTED.'], 'metadatas': [{'tag': 'Q30 Q: Can a customer still view their account details when there is an inactive Share Status? A30 A: Yes, customers can still view their account details when there is an inactive Share Status.\\n Q31 Q: What are the four Share Status options again? A31  A: The four Share Status options are ACTIVE, INACTIVE, CLOSE_ONLY, and HALTED.', 'id': 'idx_12', 'source': 'd:\\\\Environment_Owner\\\\Developments\\\\Chatbot\\\\langchain\\\\fw_gpt4all_project\\\\LLM-GPT4All/source_documents-single/GS_QA.pdf'}]}\n"
     ]
    }
   ],
   "source": [
    "query_str = 'What is the difference between INACTIVE and HALTED Share Status options?'\n",
    "res = collection.query(\n",
    "    query_texts=[query_str],\n",
    "    n_results=10,\n",
    "    #where={'id': 'idx_11'}\n",
    "    where_document={'$contains': query_str}\n",
    ")\n",
    "print(res['ids'][0][0])\n",
    "#print(res['documents'][0])\n",
    "print('\\n\\n'.join(res['documents'][0]))\n",
    "\n",
    "\n",
    "\n",
    "res2 = collection.get(\n",
    "    ids='idx_12'\n",
    ")\n",
    "print(res2)\n"
   ]
  }
 ],
 "metadata": {
  "kernelspec": {
   "display_name": "Python 3",
   "language": "python",
   "name": "python3"
  },
  "language_info": {
   "codemirror_mode": {
    "name": "ipython",
    "version": 3
   },
   "file_extension": ".py",
   "mimetype": "text/x-python",
   "name": "python",
   "nbconvert_exporter": "python",
   "pygments_lexer": "ipython3",
   "version": "3.10.11"
  },
  "orig_nbformat": 4
 },
 "nbformat": 4,
 "nbformat_minor": 2
}
