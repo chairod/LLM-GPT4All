{
 "cells": [
  {
   "cell_type": "code",
   "execution_count": 8,
   "metadata": {},
   "outputs": [
    {
     "name": "stderr",
     "output_type": "stream",
     "text": [
      "Using embedded DuckDB with persistence: data will be stored in: ai_db\\\n"
     ]
    }
   ],
   "source": [
    "from constants import *\n",
    "from langchain.vectorstores import Chroma\n",
    "from langchain.embeddings import HuggingFaceEmbeddings\n",
    "\n",
    "# โหลด AI Database เพื่อสร้าง Instance สำหรับการสร้างคำถาม\n",
    "embedding = HuggingFaceEmbeddings(model_name=EMBEDDING_MODEL_NAME)\n",
    "ai_db = Chroma(\n",
    "    persist_directory=AI_DB_PERSIST_DIR,\n",
    "    embedding_function=embedding,\n",
    "    client_settings=CHROMA_SETTINGS\n",
    ")\n",
    "\n",
    "#print(ai_db.get())"
   ]
  },
  {
   "cell_type": "code",
   "execution_count": 11,
   "metadata": {},
   "outputs": [
    {
     "name": "stdout",
     "output_type": "stream",
     "text": [
      "Field Name \n",
      "\n",
      "1.  Receipt No. \n",
      "2.  Account No. \n",
      "3.  XChgMkt \n",
      "4.  Deposit Amount \n",
      "5.  Transaction Type \n",
      "\n",
      "Field Description \n",
      "\n",
      "Reference no. of company receive which is created by program \n",
      "Customer account no.Details of deposition, if customers pay by cheque or cash, users has to fill details of deposit slip. If \n",
      "\n",
      "customers pay by cash or another pay type which is qualifies to cash, users don’t have to fill details of \n",
      "bank/branch/cheque no. \n",
      "Field detail and description: \n",
      "\n",
      " \n",
      "  \n",
      " \n",
      "\fField Name \n",
      "6.  Effective Date \n",
      "\n",
      "7.  Remark \n",
      "8.  Paytype \n",
      "9.  Bank \n",
      "10. Branch \n",
      "11. Cheque No. \n",
      "12. Cheque Date \n",
      "13. Cheque Amt. \n",
      "14. Cheq Use Amt \n",
      "\n",
      "15. ClrBk \n",
      "\n",
      "Field Descriptionseveral customer accounts as long as the total of Use Amount of specified \n",
      "cheques is not more than that cheque amount. ( default  same as deposit amount) \n",
      "The payment transaction must be pay in to which bank, which branch, users can \n",
      "look up from bank code.Retrieve data to edit \n",
      "\n",
      "Inputting receive no. (RV-YYYYMMDD-) or account no. then click “Retrieve\n"
     ]
    }
   ],
   "source": [
    "question=\"Meaning of field Account No.\"\n",
    "\n",
    "# ทดสอบถาม AI DB\n",
    "result_docs = ai_db.similarity_search(query=question, k=4)\n",
    "output = ''.join([doc.page_content for doc in result_docs])\n",
    "#print(output)\n",
    "#print(result_docs)\n",
    "#"
   ]
  },
  {
   "cell_type": "code",
   "execution_count": null,
   "metadata": {},
   "outputs": [],
   "source": [
    "# ผ่านข้อมูลที่ได้จาก AI DB ให้กับ LLM (GPT4All) เพื่อเรียบเรียงคำตอบ\n",
    "from langchain.prompts import PromptTemplate\n",
    "from gpt4all import pyllmodel\n",
    "prompt=PromptTemplate(\n",
    "    template=\"\"\"\n",
    "    {personnel_info}\n",
    "    question: {question}\n",
    "    \"\"\",\n",
    "    input_variables=['personnel_info', 'question']\n",
    ")\n",
    "\n",
    "llm = pyllmodel.LLModel()\n",
    "llm.load_model(model_path=f'{LLM_MODEL_PATH}\\\\{LLM_MODEL_NAME}')\n",
    "llm.generate(\n",
    "    prompt=prompt.format(personnel_info=result_docs[0].page_content, question=question),\n",
    "    streaming=True,\n",
    "    temp=LLM_MODEL_TEMPORATURE\n",
    ")"
   ]
  },
  {
   "cell_type": "code",
   "execution_count": 2,
   "metadata": {},
   "outputs": [
    {
     "name": "stdout",
     "output_type": "stream",
     "text": [
      "245.0\n",
      "abcd\n"
     ]
    },
    {
     "ename": "ValueError",
     "evalue": "invalid literal for int() with base 10: '1234x'",
     "output_type": "error",
     "traceback": [
      "\u001b[1;31m---------------------------------------------------------------------------\u001b[0m",
      "\u001b[1;31mValueError\u001b[0m                                Traceback (most recent call last)",
      "Cell \u001b[1;32mIn[2], line 3\u001b[0m\n\u001b[0;32m      1\u001b[0m \u001b[39mprint\u001b[39m(\u001b[39mfloat\u001b[39m(\u001b[39m'\u001b[39m\u001b[39m245\u001b[39m\u001b[39m'\u001b[39m))\n\u001b[0;32m      2\u001b[0m \u001b[39mprint\u001b[39m(\u001b[39m'\u001b[39m\u001b[39m   abcd\u001b[39m\u001b[39m'\u001b[39m\u001b[39m.\u001b[39mstrip())\n\u001b[1;32m----> 3\u001b[0m \u001b[39mprint\u001b[39m(\u001b[39mint\u001b[39;49m(\u001b[39m'\u001b[39;49m\u001b[39m1234x\u001b[39;49m\u001b[39m'\u001b[39;49m))\n",
      "\u001b[1;31mValueError\u001b[0m: invalid literal for int() with base 10: '1234x'"
     ]
    }
   ],
   "source": [
    "print(float('245'))\n",
    "print('   abcd'.strip())\n",
    "print(int('1234x'))"
   ]
  },
  {
   "cell_type": "code",
   "execution_count": 14,
   "metadata": {},
   "outputs": [
    {
     "name": "stdout",
     "output_type": "stream",
     "text": [
      "\n",
      "Users can’t deposit cash amounts over 20,000 baht per transaction.\n",
      "\n",
      "Users can’t deposit cash amounts over 500,000 baht per day.\n",
      "\n",
      "Users can deposit cash amounts between 9.00-17.00\n",
      "\n",
      "If the user’s age is between 12- and 15 years old the fee amount charged is 0.00 baht.\n",
      "\n",
      "If the user’s age is over 15 years old the fee amount charged is 15 baht per transaction.\n",
      "\n",
      "1. Test Case of Unit Testing\n",
      "\n",
      "2. Test Case of Integration Testing\n",
      "\n"
     ]
    }
   ],
   "source": [
    "str = \"\"\"\n",
    "Users can’t deposit cash amounts over 20,000 baht per transaction.\n",
    "\n",
    "Users can’t deposit cash amounts over 500,000 baht per day.\n",
    "\n",
    "Users can deposit cash amounts between 9.00-17.00\n",
    "\n",
    "If the user’s age is between 12- and 15 years old the fee amount charged is 0.00 baht.\n",
    "\n",
    "If the user’s age is over 15 years old the fee amount charged is 15 baht per transaction.\n",
    "\n",
    "1. Test Case of Unit Testing\n",
    "\n",
    "2. Test Case of Integration Testing\n",
    "\"\"\"\n",
    "\n",
    "#print(str)\n",
    "print(str.replace(\"\\n\", \"###new_line###\").replace('###new_line###', '\\n'))"
   ]
  }
 ],
 "metadata": {
  "kernelspec": {
   "display_name": "Python 3",
   "language": "python",
   "name": "python3"
  },
  "language_info": {
   "codemirror_mode": {
    "name": "ipython",
    "version": 3
   },
   "file_extension": ".py",
   "mimetype": "text/x-python",
   "name": "python",
   "nbconvert_exporter": "python",
   "pygments_lexer": "ipython3",
   "version": "3.10.11"
  },
  "orig_nbformat": 4
 },
 "nbformat": 4,
 "nbformat_minor": 2
}
