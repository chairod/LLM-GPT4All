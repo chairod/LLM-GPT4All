{
 "cells": [
  {
   "cell_type": "code",
   "execution_count": 1,
   "metadata": {},
   "outputs": [
    {
     "name": "stdout",
     "output_type": "stream",
     "text": [
      "3\n",
      "Field Name  Field Description  \n",
      "1. Receipt No.  Reference no. of company receive which is created by program  \n",
      "2. Account No.  Customer account no.  \n",
      "3. XChgMkt  Stock exchange market  ( 1 = STC,  9 = OTC)  \n",
      "4. Deposit Amount  Deposit amount   \n",
      "5. Transaction Type  Deposit type :  there are 3 types of deposit  \n",
      "Cash :  the system will increase customer cash balance after supervisor approve \n",
      "this transaction  \n",
      "Cheque : the system will increase customer cash balance on the ‘payment date’ or \n",
      "‘clearing date’ (depend on company policy), customer can withdraw this amount \n",
      "after c learing date.  \n",
      "Cheque T/R (or company cheuqe) :  the system will increase customer cash \n",
      "balance on the ‘payment date’, customer can withdraw this amount after ‘payment \n",
      "date’  \n",
      "*** Payment date‘ of cheque is the date that specify on the cheque  \n",
      "*** ‘Clearing date’ of cheque is the ‘payment date’ + 1 officia l day  \n",
      "   \n",
      " Details of deposition, if customers pay by cheque or cash, users has to fill details of deposit slip. If \n",
      "customers pay by cash or another pay type which is qualifies to cash, users don’t have to fill details of \n",
      "bank/branch/cheque no.  \n",
      "Field detai l and description:  \n"
     ]
    }
   ],
   "source": [
    "# importing required modules\n",
    "from PyPDF2 import PdfReader\n",
    "import os\n",
    "import re\n",
    "\n",
    "file_path = f'{os.getcwd()}/source_documents-single/Cash Balance Deposit_vn.pdf'\n",
    "# creating a pdf reader object\n",
    "reader = PdfReader(file_path)\n",
    "  \n",
    "# printing number of pages in pdf file\n",
    "print(len(reader.pages))\n",
    "  \n",
    "# getting a specific page from the pdf file\n",
    "page = reader.pages[1]\n",
    "  \n",
    "# extracting text from page\n",
    "text = page.extract_text()\n",
    "print(text)"
   ]
  },
  {
   "cell_type": "code",
   "execution_count": 9,
   "metadata": {},
   "outputs": [
    {
     "name": "stdout",
     "output_type": "stream",
     "text": [
      "1\n",
      "[Document(page_content='Cash Balance Deposit : BRE039A Program Description Program for adding deposit cash transactions of customers. System will automatically increase credit available on Trading System (iFIS), after supervisors approve deposit transactions by using Confirm Transaction for Cash Movement Screen.\\n\\nAdd data\\n\\nClick on”Add” button or and input the following details\\n\\nField detail and description:\\n\\nField Name\\n\\n1. Receipt No. 2. Account No. 3. XChgMkt 4. Deposit Amount 5. Transaction Type\\n\\nField Description\\n\\nReference no. of company receive which is created by program Customer account no.\\n\\nStock exchange market ( 1 = STC, 9 = OTC) Deposit amount Deposit type : there are 3 types of deposit Cash : the system will increase customer cash balance after supervisor approve this transaction Cheque : the system will increase customer cash balance on the ‘payment date’ or ‘clearing date’ (depend on company policy), customer can withdraw this amount after clearing date. Cheque T/R (or company cheuqe) : the system will increase customer cash balance on the ‘payment date’, customer can withdraw this amount after ‘payment date’ *** Payment date‘ of cheque is the date that specify on the cheque *** ‘Clearing date’ of cheque is the ‘payment date’ + 1 official day\\n\\nDetails of deposition, if customers pay by cheque or cash, users has to fill details of deposit slip. If\\n\\ncustomers pay by cash or another pay type which is qualifies to cash, users don’t have to fill details of bank/branch/cheque no. Field detail and description:\\n\\nField Name 6. Effective Date\\n\\n7. Remark 8. Paytype 9. Bank 10. Branch 11. Cheque No. 12. Cheque Date 13. Cheque Amt. 14. Cheq Use Amt\\n\\n15. ClrBk\\n\\nField Description\\n\\nEffective date of updating balance of calculating interest (default is date of transaction) Remarks Payment type Issuing bank code specified by bank of Vietnam Issuing bank branch code (able to lookup) If customer pay by cheque, fill the cheque no. Payment date on cheque (default same as effective date) Amount as appeared on cheque ( default same as deposit amount) Amount of payment for this cheque means same cheque can be deposited to several customer accounts as long as the total of Use Amount of specified cheques is not more than that cheque amount. ( default same as deposit amount) The payment transaction must be pay in to which bank, which branch, users can look up from bank code.\\n\\nIf customer deposits both cash and cheque each deposit types will be deposited separately due to\\n\\ncash balance system has a several types of deposit. For example, the refer type of cash deposit is “DH” and the refer type of cheque deposit is “DC”, etc. Deposit by either cash or cheque effects to customer balance updating. After user saved the transaction, this transaction will send to supervisor for approve.\\n\\nCorrection Data\\n\\nWithin the transaction day, if user input the wrong information and already saved, the ways to correct\\n\\nthe transaction are\\n\\n\\n\\n\\n\\n\\n\\nIf that transaction still not approve, user can retrieve the transaction, correct it and send to supervisor for approve again. The other way, user can delete it and input new transaction. If that transaction already approved, the system will not allow user to correct or delete that transaction. But user must request the supervisor to ‘Unconfirm’ that transaction before. After the transaction day, if user found that he/she input the wrong information, the only way to correct is use the function ‘Error Correction’ for cancel the transaction and send to supervisor for approve\\n\\nRetrieve data to edit\\n\\nInputting receive no. (RV-YYYYMMDD-) or account no. then click “Retrieve', metadata={'source': 'd:\\\\Environment_Owner\\\\Developments\\\\Chatbot\\\\langchain\\\\fw_gpt4all_project\\\\LLM-GPT4All/source_documents-single/Cash Balance Deposit_vn.pdf'})]\n"
     ]
    }
   ],
   "source": [
    "from langchain.document_loaders import UnstructuredPDFLoader\n",
    "\n",
    "pdf = UnstructuredPDFLoader(file_path=file_path)\n",
    "documents = pdf.load()\n",
    "print(len(documents))\n",
    "print(documents)"
   ]
  },
  {
   "cell_type": "code",
   "execution_count": 4,
   "metadata": {},
   "outputs": [
    {
     "name": "stdout",
     "output_type": "stream",
     "text": [
      "[Document(page_content='Cash Balance Deposit : BRE039A  \\nProgram Description    Program for adding deposit cash transactions  of customers . System will \\nautomatically increase credit available on Trading System (iFIS ), after supervisors approve deposit \\ntransactions  by using Confirm Transaction for Cash Movement Screen.  \\n \\n       \\n \\nAdd data  \\n Click on”Add” button or and input the following details  \\nField detail and description:  \\n Field Name  Field Description  \\n1. Receipt No.  Reference no. of company receive which is created by program  \\n2. Account No.  Customer account no.  \\n3. XChgMkt  Stock exchange market  ( 1 = STC,  9 = OTC)  \\n4. Deposit Amount  Deposit amount   \\n5. Transaction Type  Deposit type :  there are 3 types of deposit  \\nCash :  the system will increase customer cash balance after supervisor approve \\nthis transaction  \\nCheque : the system will increase customer cash balance on the ‘payment date’ or \\n‘clearing date’ (depend on company policy), customer can withdraw this amount \\nafter c learing date.  \\nCheque T/R (or company cheuqe) :  the system will increase customer cash \\nbalance on the ‘payment date’, customer can withdraw this amount after ‘payment \\ndate’  \\n*** Payment date‘ of cheque is the date that specify on the cheque  \\n*** ‘Clearing date’ of cheque is the ‘payment date’ + 1 officia l day  \\n   \\n Details of deposition, if customers pay by cheque or cash, users has to fill details of deposit slip. If \\ncustomers pay by cash or another pay type which is qualifies to cash, users don’t have to fill details of \\nbank/branch/cheque no.  \\nField detai l and description:   Field Name  Field Description  \\n6. Effective Date  Effective date of updating balance of calculating interest (default is date of \\ntransaction)  \\n7. Remark  Remarks  \\n8. Paytype  Payment type     \\n9. Bank  Issuing bank code specified by  bank of Vietnam  \\n10. Branch  Issuing bank branch code (able to lookup)  \\n11. Cheque No.   If customer pay by cheque, fill the cheque no.  \\n12. Cheque Date  Payment date on cheque  (default same as effective date)  \\n13. Cheque Amt.  Amount as appeared on cheque ( default  same as deposit amount)  \\n14. Cheq Use Amt  Amount of payment for this cheque  means same cheque can be deposited to \\nseveral customer accounts  as long as the total of Use Amount of specified \\ncheques is not more than that ch eque amount.  ( default  same as deposit amount)  \\n15. ClrBk  The payment transaction must be pay in to which bank, which branch, users can \\nlook up from bank code.  \\n  \\n  If customer deposits both cash and cheque each deposit types will be deposited separately due to \\ncash balance system has a several types of deposit. For example, the refer type of cash deposit is “DH” and \\nthe refer type of cheque deposit is “DC”, etc. Deposit by either cash or cheque effects to customer balance \\nupdating.  \\nAfter user saved the transa ction, this transaction will send to supervisor for approve.  \\n \\nCorrection Data  \\nWithin the transaction day, if user input the wrong information and already saved, the ways to correct \\nthe transaction are  \\n- If that transaction still not approve, user can retrieve the transaction, correct it and send to \\nsupervisor for approve again. The  other way, user can delete it and input new transaction.  \\n- If that transaction already approved, the system will not allow user to correct or delete that \\ntransaction. But user must request the supervisor to ‘Unconfirm’ that transaction before.  \\n-  After th e transaction day, if user found that he/she input the wrong information, the only way to \\ncorrect is use the function ‘Error Correction’ for cancel the transaction and send to supervisor \\nfor approve  \\n \\nRetrieve data to edit  \\n Inputting receive no. (RV -YYYYMMD D-) or account no. then click “Retrieve  ', metadata={'source': 'd:\\\\Environment_Owner\\\\Developments\\\\Chatbot\\\\langchain\\\\fw_gpt4all_project\\\\LLM-GPT4All/source_documents-single/Cash Balance Deposit_vn.pdf'})]\n"
     ]
    }
   ],
   "source": [
    "# ทดสอบ Class customPdfLoader\n",
    "# ที่ Optimize ขึ้นมาเพื่อใช้แทน PDFMinerLoader\n",
    "# PDFMinerLoader อ่านข้อมูลไฟล์ pdf ที่เป็น table ไม่ถูกต้อง ซึ่งจะอ่านแนวตั้ง หรือตามคอลัมล์ (ควรอ่านตาม row)\n",
    "# มีผลทำให้ข้อมูลที่เก็บไว้ใน ai db เมื่อ Query ขึ้นมาจะได้กลุ่มข้อควาที่เพี้ยน\n",
    "\n",
    "from helper.pdfHelper import customPdfLoader\n",
    "import os\n",
    "\n",
    "file_path = f'{os.getcwd()}/source_documents-single/Cash Balance Deposit_vn.pdf'\n",
    "r = customPdfLoader(file_path=file_path)\n",
    "print(r.load())"
   ]
  }
 ],
 "metadata": {
  "kernelspec": {
   "display_name": "Python 3",
   "language": "python",
   "name": "python3"
  },
  "language_info": {
   "codemirror_mode": {
    "name": "ipython",
    "version": 3
   },
   "file_extension": ".py",
   "mimetype": "text/x-python",
   "name": "python",
   "nbconvert_exporter": "python",
   "pygments_lexer": "ipython3",
   "version": "3.10.11"
  },
  "orig_nbformat": 4
 },
 "nbformat": 4,
 "nbformat_minor": 2
}
