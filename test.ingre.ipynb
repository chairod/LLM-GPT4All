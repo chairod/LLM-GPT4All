{
 "cells": [
  {
   "attachments": {},
   "cell_type": "markdown",
   "metadata": {},
   "source": [
    "# ชุด Source code นี้ใช้ทดสอบ ผลลัพธ์ของ \"python ingre.py\"\n",
    "# หรือการรัน script phython เพื่ออ่านข้อมูลจากไฟล์เอกสาร และ เก็บลงใน ChromaDb (AI DB)"
   ]
  },
  {
   "cell_type": "code",
   "execution_count": 1,
   "metadata": {},
   "outputs": [
    {
     "name": "stderr",
     "output_type": "stream",
     "text": [
      "d:\\Program Files\\Python310\\lib\\site-packages\\tqdm\\auto.py:21: TqdmWarning: IProgress not found. Please update jupyter and ipywidgets. See https://ipywidgets.readthedocs.io/en/stable/user_install.html\n",
      "  from .autonotebook import tqdm as notebook_tqdm\n"
     ]
    }
   ],
   "source": [
    "from constants import (\n",
    "    get_default_ai_db_collection_name,\n",
    "    get_default_embedding,\n",
    "    load_chroma_database,\n",
    "    is_exists_collection_name,\n",
    "    AI_DB_SEARCH_RESULT_RECORD,\n",
    "    AI_DB_METADATA_DOCUMENT_SOURCE_NAME,\n",
    "    AI_DB_METADATA_INTERNAL_IDX_NAME\n",
    ")\n",
    "\n",
    "db = load_chroma_database()\n",
    "collection = db.get_collection(name=get_default_ai_db_collection_name(), embedding_function=get_default_embedding())"
   ]
  },
  {
   "cell_type": "code",
   "execution_count": 2,
   "metadata": {},
   "outputs": [],
   "source": [
    "import chromadb\n",
    "\n",
    "def query_from_funetune(query_str: str, db: chromadb.API) -> str:\n",
    "    \"\"\"\n",
    "    ค้นหาเนื้อหาภายในเอกสาร ที่เก็บภายใน AI DB มีรูปประโยคใดบ้าง ที่ใกล้เคียงกับ query_str\n",
    "    \"\"\"\n",
    "    ret_str = ''\n",
    "    if is_exists_collection_name(collection_name=get_default_ai_db_collection_name(), db=db) == False:\n",
    "        return ret_str\n",
    "    \n",
    "    collection = db.get_collection(\n",
    "        name=get_default_ai_db_collection_name(), \n",
    "        embedding_function=get_default_embedding()\n",
    "    )\n",
    "\n",
    "    # Trim space ซ้าย/ขวา ก่อนใช้เป็นเงื่อนไขในการค้นหา เพราะทุกตัวอักษรถูกนำไปคิดเป็น เงื่อนไขทั้งหมด\n",
    "    query_str = query_str.strip()\n",
    "\n",
    "    # ค้นหารูปแบบประโยคที่เฉพาะเจาะจง\n",
    "    parent_out = collection.query(\n",
    "        query_texts=[query_str],\n",
    "        n_results=AI_DB_SEARCH_RESULT_RECORD,\n",
    "        where_document={\n",
    "            '$contains': query_str\n",
    "        }\n",
    "    )\n",
    "    print(parent_out)\n",
    "    print(parent_out['metadatas'])\n",
    "\n",
    "    if len(parent_out['documents'][0]) == 0:\n",
    "        # ถ้าค้นหาด้วยเงื่อนไข รูปแบบประโยคที่เฉพาะเจาะจงไม่เจอ ให้ค้นหาแบบ distancing\n",
    "        # คือ ให้ AI DB จัดลำดับข้อความที่มีความน่าจะเป็น ที่ใกล้เคียงกับ ประโยคคำถามมากที่สุด ไปหาน้อย (Distancing)\n",
    "        out = collection.query(\n",
    "            query_texts=[query_str],\n",
    "            n_results=5\n",
    "        )\n",
    "        \n",
    "        print(out)\n",
    "        ret_str = '\\n'.join([document_content for document_content in out['documents'][0]]) if len(out['documents'][0]) > 0 else ''\n",
    "        return ret_str\n",
    "    \n",
    "\n",
    "    ret_str = ''.join(text for text in parent_out['documents'][0])\n",
    "\n",
    "    # ค้นหา Chunk ในลำดับถัดไปจาก parent_out\n",
    "    # เนื่องจาก Chunk เป็นการตัดชุดของข้อความออกเป็นส่วนๆ มีโอกาสที่ คำตอบ ของคำถามจะไปอยู่ใช้ Chunk ลำดับถัดไป\n",
    "    doc_source = parent_out['metadatas'][0][0][AI_DB_METADATA_DOCUMENT_SOURCE_NAME]\n",
    "    doc_internal_idx = parent_out['metadatas'][0][0][AI_DB_METADATA_INTERNAL_IDX_NAME]\n",
    "    doc_internal_idx1 = f\"idx_{int(doc_internal_idx.replace('idx_', '')) + 1}\"\n",
    "    \n",
    "\n",
    "    out = collection.query(\n",
    "        query_texts=[query_str],\n",
    "        n_results=1,\n",
    "        where={\n",
    "            '$and':[\n",
    "                {\n",
    "                    AI_DB_METADATA_DOCUMENT_SOURCE_NAME: {\n",
    "                        '$eq': doc_source\n",
    "                    }\n",
    "                },\n",
    "                {\n",
    "                    AI_DB_METADATA_INTERNAL_IDX_NAME: {\n",
    "                        '$eq': doc_internal_idx1\n",
    "                    }\n",
    "                }\n",
    "            ]\n",
    "        }\n",
    "    )\n",
    "\n",
    "    print(f'doc_source: {doc_source}, doc_internal_idx: {doc_internal_idx}, doc_internal_idx1: {doc_internal_idx1}')\n",
    "    print(out)\n",
    "    ret_str = f\"{ret_str}\\n{out['documents'][0][0]}\" if len(out['documents'][0]) > 0 else ret_str\n",
    "    return ret_str"
   ]
  },
  {
   "cell_type": "code",
   "execution_count": 3,
   "metadata": {},
   "outputs": [
    {
     "name": "stdout",
     "output_type": "stream",
     "text": [
      "{'ids': [[]], 'embeddings': None, 'documents': [[]], 'metadatas': [[]], 'distances': [[]]}\n",
      "[[]]\n",
      "{'ids': [['source_documents-single\\\\Cash Balance Deposit_vn.pdf-idx_18', 'source_documents-single\\\\Cash Balance Deposit_vn.pdf-idx_10']], 'embeddings': None, 'documents': [['If customer deposits both cash and cheque each deposit types will be deposited separately due to cash balance system has a several types of deposit. For example, the refer type of cash deposit is', 'of deposition, if customers pay by cheque or cash, users has to fill details of deposit slip. If customers pay by cash or another pay type which is qualifies to cash, users don’t have to fill details']], 'metadatas': [[{'internal_idx': 'idx_18', 'source': 'source_documents-single\\\\Cash Balance Deposit_vn.pdf'}, {'internal_idx': 'idx_10', 'source': 'source_documents-single\\\\Cash Balance Deposit_vn.pdf'}]], 'distances': [[0.3064601421356201, 0.33947741985321045]]}\n",
      "If customer deposits both cash and cheque each deposit types will be deposited separately due to cash balance system has a several types of deposit. For example, the refer type of cash deposit is\n",
      "of deposition, if customers pay by cheque or cash, users has to fill details of deposit slip. If customers pay by cash or another pay type which is qualifies to cash, users don’t have to fill details\n"
     ]
    }
   ],
   "source": [
    "#print(\"'\".encode('utf-8'))\n",
    "query_str = 'Please describe information about deposit type \"Cash\"'\n",
    "#print(AI_DB_SEARCH_RESULT_RECORD)\n",
    "#print(query_str)\n",
    "ret = query_from_funetune(query_str=query_str, db=db)\n",
    "print(ret)\n",
    "\n"
   ]
  },
  {
   "attachments": {},
   "cell_type": "markdown",
   "metadata": {},
   "source": []
  },
  {
   "cell_type": "code",
   "execution_count": null,
   "metadata": {},
   "outputs": [],
   "source": [
    "query_text = 'What does Lock(sell) mean?'\n",
    "ret = collection.query(\n",
    "    query_texts=[query_text],\n",
    "\n",
    "    # อ้างอิงเอกสารจาก Link: https://docs.trychroma.com/usage-guide#using-where-filters\n",
    "    where={\n",
    "        '$or':[\n",
    "            {\n",
    "                'internal_idx':{\n",
    "                    '$eq': 'idx_9'\n",
    "                },\n",
    "            },\n",
    "             {\n",
    "                'internal_idx':{\n",
    "                    '$eq': 'idx_8'\n",
    "                },\n",
    "            }\n",
    "        ]\n",
    "    },\n",
    "    # where_document={\n",
    "    #     '$contains': query_text\n",
    "    # }\n",
    ")\n",
    "\n",
    "print(ret)\n",
    "print(ret['documents'][0])\n",
    "print(ret['documents'][0][0])\n",
    "print(ret['documents'][0][1])"
   ]
  }
 ],
 "metadata": {
  "kernelspec": {
   "display_name": "Python 3",
   "language": "python",
   "name": "python3"
  },
  "language_info": {
   "codemirror_mode": {
    "name": "ipython",
    "version": 3
   },
   "file_extension": ".py",
   "mimetype": "text/x-python",
   "name": "python",
   "nbconvert_exporter": "python",
   "pygments_lexer": "ipython3",
   "version": "3.10.11"
  },
  "orig_nbformat": 4
 },
 "nbformat": 4,
 "nbformat_minor": 2
}
