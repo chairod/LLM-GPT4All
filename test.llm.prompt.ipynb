{
 "cells": [
  {
   "attachments": {},
   "cell_type": "markdown",
   "metadata": {},
   "source": [
    "## สคลิปทดสอบนี้ ใช้สำหรับ ทดสอบผ่านข้อความให้กับ LLM แล้ว\n",
    "## ใช้คำถาม ถามตามข้อความที่ส่งให้"
   ]
  },
  {
   "cell_type": "code",
   "execution_count": 1,
   "metadata": {},
   "outputs": [
    {
     "name": "stderr",
     "output_type": "stream",
     "text": [
      "d:\\Program Files\\Python310\\lib\\site-packages\\tqdm\\auto.py:21: TqdmWarning: IProgress not found. Please update jupyter and ipywidgets. See https://ipywidgets.readthedocs.io/en/stable/user_install.html\n",
      "  from .autonotebook import tqdm as notebook_tqdm\n"
     ]
    },
    {
     "data": {
      "text/plain": [
       "True"
      ]
     },
     "execution_count": 1,
     "metadata": {},
     "output_type": "execute_result"
    }
   ],
   "source": [
    "from constants import *\n",
    "from custom_gpt4all import pyllmodel\n",
    "from langchain.prompts import PromptTemplate\n",
    "\n",
    "model_path = f'{LLM_MODEL_PATH}\\\\{LLM_MODEL_NAME}'\n",
    "llm = pyllmodel.LLModel()\n",
    "llm.load_model(model_path=model_path)"
   ]
  },
  {
   "cell_type": "code",
   "execution_count": 24,
   "metadata": {},
   "outputs": [
    {
     "name": "stdout",
     "output_type": "stream",
     "text": [
      "Answer: No. It depends on the Share Status as it is not always available. Explanation: The Buy and Sell options are available when the Share Status is Active, but it can vary depending on the Account Status.\n"
     ]
    },
    {
     "data": {
      "text/plain": [
       "'Answer: No. It depends on the Share Status as it is not always available. Explanation: The Buy and Sell options are available when the Share Status is Active, but it can vary depending on the Account Status.'"
      ]
     },
     "execution_count": 24,
     "metadata": {},
     "output_type": "execute_result"
    }
   ],
   "source": [
    "query_str = \"\"\"\n",
    "date� *** Payment date� of cheque is the date that specify on the cheque *** �Clearing date� of cheque is the �payment date� + 1 official day Details of deposition, if customers pay by cheque or cash,Cheque T/R (or company cheuqe) : the system will increase customer cash balance on the �payment date�, customer can withdraw this amount after �payment date� *** Payment date� of cheque is the date  \\n\\n\\nQuestion: What is the payment date?\n",
    "\"\"\"\n",
    "# \n",
    "\n",
    "llm.generate(\n",
    "     prompt=query_str,\n",
    "        streaming=True,\n",
    "        temp=0.8,\n",
    "\n",
    "        # จำนวน Token (ชุดของข้อความที่มีความเป็นไปได้ ที่ใกล้งเคียงกับคำถาม) ที่บอกให้ LLM หยิบมาใช้ในการสร้างประโยคคำตอบ\n",
    "        # ซึ่งรายการ Token ที่ได้จะถูกจัดลำดับ (sort) ตามความน่าจะเป็นที่ มากสุดไปน้อย สุด\n",
    "        top_k=20, \n",
    "\n",
    "\n",
    "        # ผลรวม % จากจำนวนทั้งหมดของ top_k (คือ 20 รายการ)\n",
    "        # จะต้องได้ >= top_p ถึงจะออกมาเป็นคำตอบ\n",
    "        # หลักๆ แล้วจะใช้ในการ กรองข้อมูล Token ที่มีความน่าจะเป็น ของคำตอบน้อย ออกไป\n",
    "        top_p=0.75,\n",
    "\n",
    "        # จำนวนคำ (Token) สูงสุด ที่นำมาสร้างเป็นรูปประโยคคำตอบ สูงสุดไม่เกินจำนวนกี่คำ\n",
    "        n_predict = 128,\n",
    "\n",
    "\n",
    "        # จำนวนคำทำนาย หรือ การคาดการณ์ หรือ คำถาม ที่จะใช้ถาม เพื่อให้ได้คำตอบ\n",
    "        # กรณีในคำตอบ ที่ได้นั้น มีคำตอบ อยู่ภายในรูปแบบประโยคคำตอบ\n",
    "        # ถ้ากำหนดค่า n_bath 2,3,4,5, ... LLM ก็จะสร้างคำตอบเพิ่มเติม ตามจำนวนของ n_batch และ จำนวนของคำถามที่พบในคำตอบ\n",
    "        n_batch = 1,\n",
    "\n",
    "        #repeat_last_n = 15,\n",
    "        #repeat_penalty=2.7,\n",
    ")"
   ]
  }
 ],
 "metadata": {
  "kernelspec": {
   "display_name": "Python 3",
   "language": "python",
   "name": "python3"
  },
  "language_info": {
   "codemirror_mode": {
    "name": "ipython",
    "version": 3
   },
   "file_extension": ".py",
   "mimetype": "text/x-python",
   "name": "python",
   "nbconvert_exporter": "python",
   "pygments_lexer": "ipython3",
   "version": "3.10.11"
  },
  "orig_nbformat": 4
 },
 "nbformat": 4,
 "nbformat_minor": 2
}
