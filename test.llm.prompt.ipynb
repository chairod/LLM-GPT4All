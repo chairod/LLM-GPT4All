{
 "cells": [
  {
   "cell_type": "code",
   "execution_count": 1,
   "metadata": {},
   "outputs": [
    {
     "name": "stderr",
     "output_type": "stream",
     "text": [
      "d:\\Program Files\\Python310\\lib\\site-packages\\tqdm\\auto.py:21: TqdmWarning: IProgress not found. Please update jupyter and ipywidgets. See https://ipywidgets.readthedocs.io/en/stable/user_install.html\n",
      "  from .autonotebook import tqdm as notebook_tqdm\n"
     ]
    },
    {
     "data": {
      "text/plain": [
       "True"
      ]
     },
     "execution_count": 1,
     "metadata": {},
     "output_type": "execute_result"
    }
   ],
   "source": [
    "from constants import *\n",
    "from custom_gpt4all import pyllmodel\n",
    "from langchain.prompts import PromptTemplate\n",
    "\n",
    "model_path = f'{LLM_MODEL_PATH}\\\\{LLM_MODEL_NAME}'\n",
    "llm = pyllmodel.LLModel()\n",
    "llm.load_model(model_path=model_path)"
   ]
  },
  {
   "cell_type": "code",
   "execution_count": 3,
   "metadata": {},
   "outputs": [
    {
     "name": "stdout",
     "output_type": "stream",
     "text": [
      "No, it is not possible to sell shares when the Share Status is INACTIVE.\n"
     ]
    },
    {
     "data": {
      "text/plain": [
       "'No, it is not possible to sell shares when the Share Status is INACTIVE.'"
      ]
     },
     "execution_count": 3,
     "metadata": {},
     "output_type": "execute_result"
    }
   ],
   "source": [
    "query_str = \"\"\"\n",
    "Q16 Q: Is it possible to buy shares when the Share Status is INACTIVE?\\n\n",
    "A16 A: No, it is not possible to buy shares when the Share Status is INACTIVE.\\n\\n\n",
    "Q17 Q: Is it possible to sell shares when the Share Status is INACTIVE?\\n\n",
    "A17 A: No, it is not possible to sell shares when the Share Status is INACTIVE.\\n\\n\n",
    "Q18 Q: When can shares only be sold?\\n\n",
    "A18 A: Shares can only be sold when the Share Status is CLOSE_ONLY.\n",
    "\n",
    "Is it possible to sell shares when the Share Status is INACTIVE?\n",
    "\"\"\"\n",
    "# \n",
    "\n",
    "llm.generate(\n",
    "     prompt=query_str,\n",
    "        streaming=True,\n",
    "        temp=0.3,\n",
    "\n",
    "        # จำนวน Token (ชุดของข้อความที่มีความเป็นไปได้ ที่ใกล้งเคียงกับคำถาม) ที่บอกให้ LLM หยิบมาใช้ในการสร้างประโยคคำตอบ\n",
    "        # ซึ่งรายการ Token ที่ได้จะถูกจัดลำดับ (sort) ตามความน่าจะเป็นที่ มากสุดไปน้อย สุด\n",
    "        top_k=20, \n",
    "\n",
    "\n",
    "        # ผลรวม % จากจำนวนทั้งหมดของ top_k (คือ 20 รายการ)\n",
    "        # จะต้องได้ >= top_p ถึงจะออกมาเป็นคำตอบ\n",
    "        # หลักๆ แล้วจะใช้ในการ กรองข้อมูล Token ที่มีความน่าจะเป็น ของคำตอบน้อย ออกไป\n",
    "        top_p=0.75,\n",
    "\n",
    "        # จำนวนคำ (Token) สูงสุด ที่นำมาสร้างเป็นรูปประโยคคำตอบ สูงสุดไม่เกินจำนวนกี่คำ\n",
    "        n_predict = 128,\n",
    "\n",
    "\n",
    "        # จำนวนคำทำนาย หรือ การคาดการณ์ หรือ คำถาม ที่จะให้ถามใน คำตอบ\n",
    "        # กรณีในคำตอบ ที่ได้นั้น มีคำตอบ อยู่ภายในรูปแบบประโยคคำตอบ\n",
    "        # ถ้ากำหนดค่า n_bath 2,3,4,5, ... LLM ก็จะสร้างคำตอบเพิ่มเติม ตามจำนวนของ n_batch และ จำนวนของคำถามที่พบในคำตอบ\n",
    "        n_batch = 1\n",
    ")"
   ]
  }
 ],
 "metadata": {
  "kernelspec": {
   "display_name": "Python 3",
   "language": "python",
   "name": "python3"
  },
  "language_info": {
   "codemirror_mode": {
    "name": "ipython",
    "version": 3
   },
   "file_extension": ".py",
   "mimetype": "text/x-python",
   "name": "python",
   "nbconvert_exporter": "python",
   "pygments_lexer": "ipython3",
   "version": "3.10.11"
  },
  "orig_nbformat": 4
 },
 "nbformat": 4,
 "nbformat_minor": 2
}
